{
 "cells": [
  {
   "cell_type": "markdown",
   "id": "40bd5eca",
   "metadata": {},
   "source": [
    "## Библиотеки"
   ]
  },
  {
   "cell_type": "code",
   "execution_count": 1,
   "id": "cb695d30",
   "metadata": {},
   "outputs": [],
   "source": [
    "import pandas as pd\n",
    "from tqdm import tqdm\n",
    "from urllib.request import urlopen\n",
    "from urllib.parse import quote\n",
    "from rdkit import Chem\n",
    "import numpy as np"
   ]
  },
  {
   "cell_type": "code",
   "execution_count": 2,
   "id": "cc522110",
   "metadata": {},
   "outputs": [],
   "source": [
    "from mol_descriptors.topology import TopologyDescriptors\n",
    "from mol_descriptors.constitution import ConstitutionDescriptors\n",
    "from mol_descriptors.burden import BurdenDescriptors\n",
    "from mol_descriptors.basak import BasakDescriptors\n",
    "from mol_descriptors.cats2d import Cats2dDescriptors\n",
    "from mol_descriptors.charge import ChargeDescriptors\n",
    "from mol_descriptors.connectivity import ConnectivityDescriptors\n",
    "from mol_descriptors.estate import EstateDescriptors\n",
    "from mol_descriptors.geary import GearyDescriptors\n",
    "from mol_descriptors.kappa import KappaDescriptors\n",
    "from mol_descriptors.moe import MoeDescriptors\n",
    "from mol_descriptors.moran import MoranDescriptors\n",
    "from mol_descriptors.moreaubroto import MoreaubrotoDescriptors"
   ]
  },
  {
   "cell_type": "markdown",
   "id": "6b0bf8dd",
   "metadata": {},
   "source": [
    "## Работа с данными"
   ]
  },
  {
   "cell_type": "markdown",
   "id": "0137b8a4",
   "metadata": {},
   "source": [
    "Генерация данных для обучающей выборки"
   ]
  },
  {
   "cell_type": "code",
   "execution_count": 3,
   "id": "f00c2dc6",
   "metadata": {},
   "outputs": [],
   "source": [
    "name_df = \"Task/train.csv\""
   ]
  },
  {
   "cell_type": "code",
   "execution_count": 4,
   "id": "4abea8eb",
   "metadata": {},
   "outputs": [],
   "source": [
    "df = pd.read_csv(name_df)"
   ]
  },
  {
   "cell_type": "code",
   "execution_count": 5,
   "id": "cc106842",
   "metadata": {},
   "outputs": [],
   "source": [
    "df = df.loc[:, 'Smiles':]"
   ]
  },
  {
   "cell_type": "markdown",
   "id": "8278ae60",
   "metadata": {},
   "source": [
    "Генерация фичей"
   ]
  },
  {
   "cell_type": "code",
   "execution_count": 6,
   "id": "11a270e2",
   "metadata": {},
   "outputs": [],
   "source": [
    "df_topology = TopologyDescriptors().getTopology(df)\n",
    "df_constution = ConstitutionDescriptors().getConstitutional(df)\n",
    "df_burden = BurdenDescriptors().getBurden(df)\n",
    "df_basak = BasakDescriptors().getBasak(df)\n",
    "df_cats2d = Cats2dDescriptors().getCATS2D(df)\n",
    "df_charge = ChargeDescriptors().getCharge(df)\n",
    "df_connectivity = ConnectivityDescriptors().getConnectivity(df)\n",
    "df_estate = EstateDescriptors().getEstate(df)\n",
    "df_geary = GearyDescriptors().getGearyAuto(df)\n",
    "df_kappa = KappaDescriptors().getKappa(df)\n",
    "df_moran = MoranDescriptors().getMoranAuto(df)\n",
    "df_moreaubroto = MoreaubrotoDescriptors().getMoreauBrotoAuto(df)"
   ]
  },
  {
   "cell_type": "code",
   "execution_count": 7,
   "id": "b175b978",
   "metadata": {},
   "outputs": [],
   "source": [
    "df1 = pd.concat([df_topology, df_constution], axis=1)\n",
    "df2 = pd.concat([df_burden, df_basak], axis=1)\n",
    "df3 = pd.concat([df_cats2d, df_charge], axis=1)\n",
    "df4 = pd.concat([df_connectivity, df_estate], axis=1)\n",
    "df5 = pd.concat([df_geary, df_kappa], axis=1)\n",
    "df6 = pd.concat([df_moran, df_moreaubroto], axis=1)\n",
    "df7 = pd.concat([df1, df2], axis=1)\n",
    "df8 = pd.concat([df3, df4], axis=1)\n",
    "df9 = pd.concat([df5, df6], axis=1)\n",
    "df10 = pd.concat([df7, df8], axis=1)\n",
    "df11 = pd.concat([df9, df10], axis=1)"
   ]
  },
  {
   "cell_type": "code",
   "execution_count": 8,
   "id": "4574d7be",
   "metadata": {},
   "outputs": [],
   "source": [
    "data = pd.concat([df, df11], axis=1)"
   ]
  },
  {
   "cell_type": "code",
   "execution_count": 9,
   "id": "30914323",
   "metadata": {},
   "outputs": [],
   "source": [
    "name_col = data.columns.values"
   ]
  },
  {
   "cell_type": "code",
   "execution_count": 14,
   "id": "790fb823",
   "metadata": {},
   "outputs": [
    {
     "data": {
      "text/plain": [
       "array([False])"
      ]
     },
     "execution_count": 14,
     "metadata": {},
     "output_type": "execute_result"
    }
   ],
   "source": [
    "data.isnull().any().unique()"
   ]
  },
  {
   "cell_type": "code",
   "execution_count": 11,
   "id": "f2666fcc",
   "metadata": {},
   "outputs": [],
   "source": [
    "data = data.replace(np.inf, 10000) #inf заменяем на большое значение"
   ]
  },
  {
   "cell_type": "code",
   "execution_count": 12,
   "id": "7e477604",
   "metadata": {},
   "outputs": [],
   "source": [
    "data.drop(\"GMTI\", axis=1, inplace=True)"
   ]
  },
  {
   "cell_type": "code",
   "execution_count": 13,
   "id": "2bed9da7",
   "metadata": {},
   "outputs": [],
   "source": [
    "data = data.fillna(0) #заполняем nan-ы"
   ]
  },
  {
   "cell_type": "code",
   "execution_count": 15,
   "id": "b4a7d4c9",
   "metadata": {},
   "outputs": [],
   "source": [
    "data.to_csv('Task/train_from_md.csv')"
   ]
  },
  {
   "cell_type": "code",
   "execution_count": null,
   "id": "dcff1836",
   "metadata": {},
   "outputs": [],
   "source": []
  },
  {
   "cell_type": "code",
   "execution_count": null,
   "id": "461beaa6",
   "metadata": {},
   "outputs": [],
   "source": []
  },
  {
   "cell_type": "code",
   "execution_count": null,
   "id": "f2604d43",
   "metadata": {},
   "outputs": [],
   "source": []
  },
  {
   "cell_type": "code",
   "execution_count": null,
   "id": "beccfcf9",
   "metadata": {},
   "outputs": [],
   "source": []
  },
  {
   "cell_type": "code",
   "execution_count": null,
   "id": "5733a0e4",
   "metadata": {},
   "outputs": [],
   "source": []
  },
  {
   "cell_type": "markdown",
   "id": "a2deabbe",
   "metadata": {},
   "source": [
    "Генерация данных для тестовой выборки"
   ]
  },
  {
   "cell_type": "code",
   "execution_count": 19,
   "id": "3d7600e2",
   "metadata": {},
   "outputs": [],
   "source": [
    "dt = pd.read_csv(\"Task/test.csv\")"
   ]
  },
  {
   "cell_type": "code",
   "execution_count": 20,
   "id": "2040b24c",
   "metadata": {},
   "outputs": [],
   "source": [
    "dt = dt.loc[:, 'Smiles':]"
   ]
  },
  {
   "cell_type": "code",
   "execution_count": 21,
   "id": "7fa6258e",
   "metadata": {},
   "outputs": [],
   "source": [
    "dt_topology = TopologyDescriptors().getTopology(dt)\n",
    "dt_constution = ConstitutionDescriptors().getConstitutional(dt)\n",
    "dt_burden = BurdenDescriptors().getBurden(dt)\n",
    "dt_basak = BasakDescriptors().getBasak(dt)\n",
    "dt_cats2d = Cats2dDescriptors().getCATS2D(dt)\n",
    "dt_charge = ChargeDescriptors().getCharge(dt)\n",
    "dt_connectivity = ConnectivityDescriptors().getConnectivity(dt)\n",
    "dt_estate = EstateDescriptors().getEstate(dt)\n",
    "dt_geary = GearyDescriptors().getGearyAuto(dt)\n",
    "dt_kappa = KappaDescriptors().getKappa(dt)\n",
    "dt_moran = MoranDescriptors().getMoranAuto(dt)\n",
    "dt_moreaubroto = MoreaubrotoDescriptors().getMoreauBrotoAuto(dt)"
   ]
  },
  {
   "cell_type": "code",
   "execution_count": 22,
   "id": "8d2932dc",
   "metadata": {},
   "outputs": [],
   "source": [
    "dt1 = pd.concat([dt_topology, dt_constution], axis=1)\n",
    "dt2 = pd.concat([dt_burden, dt_basak], axis=1)\n",
    "dt3 = pd.concat([dt_cats2d, dt_charge], axis=1)\n",
    "dt4 = pd.concat([dt_connectivity, dt_estate], axis=1)\n",
    "dt5 = pd.concat([dt_geary, dt_kappa], axis=1)\n",
    "dt6 = pd.concat([dt_moran, dt_moreaubroto], axis=1)\n",
    "dt7 = pd.concat([dt1, dt2], axis=1)\n",
    "dt8 = pd.concat([dt3, dt4], axis=1)\n",
    "dt9 = pd.concat([dt5, dt6], axis=1)\n",
    "dt10 = pd.concat([dt7, dt8], axis=1)\n",
    "dt11 = pd.concat([dt9, dt10], axis=1)\n",
    "test = pd.concat([dt, dt11], axis=1)"
   ]
  },
  {
   "cell_type": "code",
   "execution_count": 27,
   "id": "1303b0a1",
   "metadata": {},
   "outputs": [
    {
     "data": {
      "text/plain": [
       "array([False])"
      ]
     },
     "execution_count": 27,
     "metadata": {},
     "output_type": "execute_result"
    }
   ],
   "source": [
    "test.isnull().any().unique()"
   ]
  },
  {
   "cell_type": "code",
   "execution_count": 24,
   "id": "aa248168",
   "metadata": {},
   "outputs": [],
   "source": [
    "test = test.replace(np.inf, 10000) #inf заменяем на большое значение"
   ]
  },
  {
   "cell_type": "code",
   "execution_count": 25,
   "id": "e5d9f498",
   "metadata": {},
   "outputs": [],
   "source": [
    "test.drop(\"GMTI\", axis=1, inplace=True)"
   ]
  },
  {
   "cell_type": "code",
   "execution_count": 26,
   "id": "5d6f45a6",
   "metadata": {},
   "outputs": [],
   "source": [
    "test = test.fillna(0) #заполняем nan-ы"
   ]
  },
  {
   "cell_type": "code",
   "execution_count": 28,
   "id": "5f7cbaed",
   "metadata": {},
   "outputs": [],
   "source": [
    "test.to_csv('Task/test_from_md.csv')"
   ]
  },
  {
   "cell_type": "code",
   "execution_count": null,
   "id": "3f2c99e6",
   "metadata": {},
   "outputs": [],
   "source": []
  },
  {
   "cell_type": "code",
   "execution_count": null,
   "id": "ccfcce33",
   "metadata": {},
   "outputs": [],
   "source": []
  },
  {
   "cell_type": "code",
   "execution_count": null,
   "id": "659faf80",
   "metadata": {},
   "outputs": [],
   "source": []
  },
  {
   "cell_type": "code",
   "execution_count": null,
   "id": "3a1d9ee3",
   "metadata": {},
   "outputs": [],
   "source": []
  }
 ],
 "metadata": {
  "kernelspec": {
   "display_name": "Python 3 (ipykernel)",
   "language": "python",
   "name": "python3"
  },
  "language_info": {
   "codemirror_mode": {
    "name": "ipython",
    "version": 3
   },
   "file_extension": ".py",
   "mimetype": "text/x-python",
   "name": "python",
   "nbconvert_exporter": "python",
   "pygments_lexer": "ipython3",
   "version": "3.9.7"
  }
 },
 "nbformat": 4,
 "nbformat_minor": 5
}
