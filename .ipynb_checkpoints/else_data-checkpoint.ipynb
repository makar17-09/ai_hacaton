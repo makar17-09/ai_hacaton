{
 "cells": [
  {
   "cell_type": "code",
   "execution_count": 35,
   "id": "53361961",
   "metadata": {},
   "outputs": [],
   "source": [
    "import os\n",
    "import pandas as pd\n",
    "from tqdm.auto import tqdm\n",
    "from rdkit import Chem\n",
    "from rdkit.Chem import Draw\n",
    "import networkx as nx\n",
    "from collections import defaultdict\n",
    "import numpy as np"
   ]
  },
  {
   "cell_type": "code",
   "execution_count": 3,
   "id": "df0f250e",
   "metadata": {},
   "outputs": [],
   "source": [
    "import matplotlib\n",
    "# matplotlib.use('Qt5Agg')\n",
    "# %matplotlib qt5\n",
    "%matplotlib inline\n",
    "import matplotlib.pyplot as plt"
   ]
  },
  {
   "cell_type": "code",
   "execution_count": 28,
   "id": "98c33df3",
   "metadata": {},
   "outputs": [],
   "source": [
    "filename = 'Task/train.csv'\n",
    "df = pd.read_csv(filename)\n",
    "df = df.loc[:, ['Smiles', 'Active']].astype({'Active': bool})"
   ]
  },
  {
   "cell_type": "code",
   "execution_count": 29,
   "id": "0ee0b8aa",
   "metadata": {},
   "outputs": [
    {
     "name": "stdout",
     "output_type": "stream",
     "text": [
      "COc1ccc2[nH]cc(CCN)c2c1\n"
     ]
    }
   ],
   "source": [
    "print(df['Smiles'].tolist()[0])"
   ]
  },
  {
   "cell_type": "code",
   "execution_count": 32,
   "id": "b022aa48",
   "metadata": {},
   "outputs": [],
   "source": [
    "elements = set()\n",
    "data_elements = []\n",
    "for s in df['Smiles'].tolist():\n",
    "    mol = Chem.MolFromSmiles(s)\n",
    "    na = {a.GetSymbol() for a in mol.GetAtoms()}\n",
    "    for n in na:\n",
    "         elements.add(n)"
   ]
  },
  {
   "cell_type": "code",
   "execution_count": 40,
   "id": "e62b6511",
   "metadata": {},
   "outputs": [
    {
     "data": {
      "text/plain": [
       "25"
      ]
     },
     "execution_count": 40,
     "metadata": {},
     "output_type": "execute_result"
    }
   ],
   "source": [
    "col = len(elements)+df.shape[1]\n",
    "col"
   ]
  },
  {
   "cell_type": "code",
   "execution_count": 52,
   "id": "a14d6552",
   "metadata": {},
   "outputs": [
    {
     "data": {
      "text/plain": [
       "['Si',\n",
       " 'O',\n",
       " 'Ca',\n",
       " 'Cl',\n",
       " 'Se',\n",
       " 'I',\n",
       " 'H',\n",
       " 'Zn',\n",
       " 'K',\n",
       " 'F',\n",
       " 'Ag',\n",
       " 'Al',\n",
       " 'Br',\n",
       " 'B',\n",
       " 'N',\n",
       " 'Mg',\n",
       " 'P',\n",
       " 'S',\n",
       " 'Li',\n",
       " 'As',\n",
       " 'Na',\n",
       " 'Sr',\n",
       " 'C']"
      ]
     },
     "execution_count": 52,
     "metadata": {},
     "output_type": "execute_result"
    }
   ],
   "source": [
    "list(elements)"
   ]
  },
  {
   "cell_type": "code",
   "execution_count": 63,
   "id": "f8e95386",
   "metadata": {},
   "outputs": [
    {
     "data": {
      "text/plain": [
       "False"
      ]
     },
     "execution_count": 63,
     "metadata": {},
     "output_type": "execute_result"
    }
   ],
   "source": [
    "df.loc[1, \"Active\"]"
   ]
  },
  {
   "cell_type": "code",
   "execution_count": 53,
   "id": "1770e7da",
   "metadata": {},
   "outputs": [],
   "source": [
    "df[list(elements)] = np.zeros((5557, 23), dtype=float)"
   ]
  },
  {
   "cell_type": "code",
   "execution_count": 58,
   "id": "3aedabc2",
   "metadata": {},
   "outputs": [
    {
     "name": "stderr",
     "output_type": "stream",
     "text": [
      "/home/makar/Documents/netology/plaidml/lib64/python3.9/site-packages/pandas/core/indexing.py:1773: SettingWithCopyWarning: \n",
      "A value is trying to be set on a copy of a slice from a DataFrame.\n",
      "Try using .loc[row_indexer,col_indexer] = value instead\n",
      "\n",
      "See the caveats in the documentation: https://pandas.pydata.org/pandas-docs/stable/user_guide/indexing.html#returning-a-view-versus-a-copy\n",
      "  self._setitem_single_column(ilocs[0], value, pi)\n"
     ]
    }
   ],
   "source": [
    "elements = set()\n",
    "data_elements = []\n",
    "for s in df['Smiles'].tolist():\n",
    "    mol = Chem.MolFromSmiles(df['Smiles'][s])\n",
    "    na = {a.GetSymbol() for a in mol.GetAtoms()}\n",
    "    for n in na:\n",
    "        elements.add(n)\n",
    "        if n not in count_na.keys():\n",
    "            count_na.update({n : 0})\n",
    "        count_na[n] += 1\n",
    "    for i in range(len(count_na)):\n",
    "        df[s].loc[ count_na[i]] += "
   ]
  },
  {
   "cell_type": "code",
   "execution_count": 59,
   "id": "4c5d8672",
   "metadata": {},
   "outputs": [
    {
     "data": {
      "text/plain": [
       "array([0.])"
      ]
     },
     "execution_count": 59,
     "metadata": {},
     "output_type": "execute_result"
    }
   ],
   "source": [
    "df[\"C\"].unique()"
   ]
  },
  {
   "cell_type": "code",
   "execution_count": 8,
   "id": "098b84b6",
   "metadata": {},
   "outputs": [
    {
     "name": "stdout",
     "output_type": "stream",
     "text": [
      "[1, 3, 5, 6, 7, 8, 9, 11, 12, 13, 14, 15, 16, 17, 19, 20, 30, 33, 34, 35, 38, 47, 53]\n"
     ]
    }
   ],
   "source": [
    "used_atoms = set()\n",
    "for s in df['Smiles'].tolist():\n",
    "    mol = Chem.MolFromSmiles(s)\n",
    "    used_atoms.update([a.GetAtomicNum() for a in mol.GetAtoms()])\n",
    "print(sorted(used_atoms))"
   ]
  },
  {
   "cell_type": "code",
   "execution_count": 9,
   "id": "38ab4168",
   "metadata": {},
   "outputs": [
    {
     "data": {
      "text/plain": [
       "[(0, {'id': 6, 'symbol': 'C'}),\n",
       " (1, {'id': 6, 'symbol': 'C'}),\n",
       " (2, {'id': 6, 'symbol': 'C'}),\n",
       " (3, {'id': 6, 'symbol': 'C'}),\n",
       " (4, {'id': 7, 'symbol': 'N'}),\n",
       " (5, {'id': 6, 'symbol': 'C'}),\n",
       " (6, {'id': 6, 'symbol': 'C'}),\n",
       " (7, {'id': 6, 'symbol': 'C'}),\n",
       " (8, {'id': 6, 'symbol': 'C'}),\n",
       " (9, {'id': 6, 'symbol': 'C'}),\n",
       " (10, {'id': 8, 'symbol': 'O'}),\n",
       " (11, {'id': 8, 'symbol': 'O'}),\n",
       " (12, {'id': 6, 'symbol': 'C'}),\n",
       " (13, {'id': 6, 'symbol': 'C'}),\n",
       " (14, {'id': 7, 'symbol': 'N'}),\n",
       " (15, {'id': 6, 'symbol': 'C'}),\n",
       " (16, {'id': 6, 'symbol': 'C'}),\n",
       " (17, {'id': 6, 'symbol': 'C'}),\n",
       " (18, {'id': 6, 'symbol': 'C'}),\n",
       " (19, {'id': 17, 'symbol': 'Cl'})]"
      ]
     },
     "execution_count": 9,
     "metadata": {},
     "output_type": "execute_result"
    }
   ],
   "source": [
    "nodes = [(i, {'id': a.GetAtomicNum(), 'symbol': str(a.GetSymbol())}) for i, a in enumerate(mol.GetAtoms())]\n",
    "edges = [(b.GetBeginAtomIdx(), b.GetEndAtomIdx(), {'bond_type': str(b.GetBondType())}) for b in mol.GetBonds()]\n",
    "nodes"
   ]
  },
  {
   "cell_type": "code",
   "execution_count": null,
   "id": "5b3b92c4",
   "metadata": {},
   "outputs": [],
   "source": []
  },
  {
   "cell_type": "code",
   "execution_count": null,
   "id": "6d819e2f",
   "metadata": {},
   "outputs": [],
   "source": []
  }
 ],
 "metadata": {
  "kernelspec": {
   "display_name": "Python 3 (ipykernel)",
   "language": "python",
   "name": "python3"
  },
  "language_info": {
   "codemirror_mode": {
    "name": "ipython",
    "version": 3
   },
   "file_extension": ".py",
   "mimetype": "text/x-python",
   "name": "python",
   "nbconvert_exporter": "python",
   "pygments_lexer": "ipython3",
   "version": "3.9.7"
  }
 },
 "nbformat": 4,
 "nbformat_minor": 5
}
